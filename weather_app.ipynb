{
  "nbformat": 4,
  "nbformat_minor": 0,
  "metadata": {
    "colab": {
      "provenance": [],
      "authorship_tag": "ABX9TyMOdrP3Z7pGQALUbG1ah79n",
      "include_colab_link": true
    },
    "kernelspec": {
      "name": "python3",
      "display_name": "Python 3"
    },
    "language_info": {
      "name": "python"
    }
  },
  "cells": [
    {
      "cell_type": "markdown",
      "metadata": {
        "id": "view-in-github",
        "colab_type": "text"
      },
      "source": [
        "<a href=\"https://colab.research.google.com/github/lalitgope68/gdp-dashboard/blob/main/weather_app.ipynb\" target=\"_parent\"><img src=\"https://colab.research.google.com/assets/colab-badge.svg\" alt=\"Open In Colab\"/></a>"
      ]
    },
    {
      "cell_type": "code",
      "source": [
        "!pip install pyngrok # install the pyngrok package\n",
        "\n",
        "from pyngrok import ngrok # now import the package\n",
        "\n",
        "# **Set your authtoken**\n",
        "ngrok.set_auth_token(\"2tIqQpUmsIIfJ28zrwgfi4BpWCk_7vKrvyEvJxqLXMhCxBsXL\") # Replace YOUR_AUTHTOKEN with your actual authtoken\n",
        "\n",
        "# Start Streamlit server\n",
        "!streamlit run weather_app.py &\n",
        "\n",
        "# Open the app publicly\n",
        "# Use 'addr' instead of 'port' and specify the protocol (http)\n",
        "public_url = ngrok.connect(addr=\"8501\")\n",
        "print(\"Streamlit Public URL:\", public_url)"
      ],
      "metadata": {
        "colab": {
          "base_uri": "https://localhost:8080/"
        },
        "id": "kUoY-8P1Njwe",
        "outputId": "a4555795-5d1d-461e-c71e-167ff294bbba"
      },
      "execution_count": 14,
      "outputs": [
        {
          "output_type": "stream",
          "name": "stdout",
          "text": [
            "Requirement already satisfied: pyngrok in /usr/local/lib/python3.11/dist-packages (7.2.3)\n",
            "Requirement already satisfied: PyYAML>=5.1 in /usr/local/lib/python3.11/dist-packages (from pyngrok) (6.0.2)\n",
            "/bin/bash: line 1: streamlit: command not found\n",
            "Streamlit Public URL: NgrokTunnel: \"https://3fa8-104-196-5-78.ngrok-free.app\" -> \"http://localhost:8501\"\n"
          ]
        }
      ]
    },
    {
      "cell_type": "code",
      "source": [
        "weather_app_code = \"\"\"\n",
        "import streamlit as st\n",
        "import random\n",
        "import time\n",
        "from datetime import datetime, timedelta\n",
        "\n",
        "# Function to get weather icons\n",
        "def get_weather_icon(condition):\n",
        "    icons = {\n",
        "        \"Sunny\": \"☀️\",\n",
        "        \"Cloudy\": \"☁️\",\n",
        "        \"Rainy\": \"🌧️\",\n",
        "        \"Stormy\": \"⛈️\",\n",
        "        \"Snowy\": \"❄️\",\n",
        "        \"Windy\": \"💨\",\n",
        "    }\n",
        "    return icons.get(condition, \"❓\")\n",
        "\n",
        "# Function to generate random weather data\n",
        "def generate_weather_data(day_offset):\n",
        "    random.seed(day_offset)\n",
        "    temp = random.randint(10, 35)\n",
        "    humidity = random.randint(30, 90)\n",
        "    wind_speed = random.randint(5, 25)\n",
        "    conditions = [\"Sunny\", \"Cloudy\", \"Rainy\", \"Stormy\", \"Snowy\", \"Windy\"]\n",
        "    weather_condition = random.choice(conditions)\n",
        "    return temp, humidity, wind_speed, weather_condition\n",
        "\n",
        "# Streamlit UI\n",
        "st.set_page_config(page_title=\"Weather Prediction\", page_icon=\"🌦️\", layout=\"centered\")\n",
        "\n",
        "st.title(\"🌤️ Weather Prediction App\")\n",
        "st.write(\"### Predict weather for upcoming days!\")\n",
        "\n",
        "# Slider for selecting days\n",
        "day_offset = st.slider(\"Select the number of days ahead\", 0, 7, 0)\n",
        "selected_date = datetime.now() + timedelta(days=day_offset)\n",
        "\n",
        "# Generating weather data\n",
        "temp, humidity, wind_speed, weather_condition = generate_weather_data(day_offset)\n",
        "\n",
        "# Displaying weather information\n",
        "st.write(f\"### 📅 Weather on {selected_date.strftime('%A, %d %B %Y')}\")\n",
        "st.write(f\"## {get_weather_icon(weather_condition)} {weather_condition}\")\n",
        "st.metric(\"🌡️ Temperature\", f\"{temp}°C\")\n",
        "st.metric(\"💧 Humidity\", f\"{humidity}%\")\n",
        "st.metric(\"🌬️ Wind Speed\", f\"{wind_speed} km/h\")\n",
        "\n",
        "# Weather animation\n",
        "st.write(\"## 🌎 Live Weather Animation\")\n",
        "if weather_condition == \"Sunny\":\n",
        "    st.image(\"https://media.giphy.com/media/3o6Zt481isNVuQI1l6/giphy.gif\", width=400)\n",
        "elif weather_condition == \"Cloudy\":\n",
        "    st.image(\"https://media.giphy.com/media/xT0GqFfFpfDg1X8v6E/giphy.gif\", width=400)\n",
        "elif weather_condition == \"Rainy\":\n",
        "    st.image(\"https://media.giphy.com/media/26AHONQ79FdWZhAI0/giphy.gif\", width=400)\n",
        "elif weather_condition == \"Stormy\":\n",
        "    st.image(\"https://media.giphy.com/media/3o7TKrFoq0Jvi3ZSr4/giphy.gif\", width=400)\n",
        "elif weather_condition == \"Snowy\":\n",
        "    st.image(\"https://media.giphy.com/media/3o6ZsWcsZjbw8l3e3u/giphy.gif\", width=400)\n",
        "elif weather_condition == \"Windy\":\n",
        "    st.image(\"https://media.giphy.com/media/xT0GqeSlGSRQzjXlQc/giphy.gif\", width=400)\n",
        "\n",
        "# Loading effect\n",
        "with st.spinner(\"Loading data...\"):\n",
        "    time.sleep(1)\n",
        "\n",
        "st.success(\"Weather data updated successfully!\")\n",
        "\n",
        "# Footer\n",
        "st.write(\"---\")\n",
        "st.write(\"📍 Data is randomly generated for demo purposes.\")\n",
        "\"\"\"\n",
        "\n",
        "# Write to a file\n",
        "with open(\"weather_app.py\", \"w\") as f:\n",
        "    f.write(weather_app_code)\n"
      ],
      "metadata": {
        "id": "KgsGdhWdN6Y3"
      },
      "execution_count": 15,
      "outputs": []
    },
    {
      "cell_type": "code",
      "source": [
        "# Start Streamlit server in the background\n",
        "!streamlit run weather_app.py &\n",
        "\n",
        "# Create a public URL using ngrok\n",
        "public_url = ngrok.connect(8501)\n",
        "print(\"🌐 Streamlit Public URL:\", public_url)\n"
      ],
      "metadata": {
        "colab": {
          "base_uri": "https://localhost:8080/"
        },
        "id": "67cjvHwqOBk2",
        "outputId": "715073ad-d7dc-4d37-f4bb-0bef78bb80d3"
      },
      "execution_count": 16,
      "outputs": [
        {
          "output_type": "stream",
          "name": "stdout",
          "text": [
            "/bin/bash: line 1: streamlit: command not found\n",
            "🌐 Streamlit Public URL: NgrokTunnel: \"https://0e05-104-196-5-78.ngrok-free.app\" -> \"http://localhost:8501\"\n"
          ]
        }
      ]
    },
    {
      "cell_type": "code",
      "source": [
        "from pyngrok import ngrok\n",
        "\n",
        "# Kill any existing tunnels\n",
        "ngrok.kill()\n",
        "\n",
        "# Ensure all processes related to ngrok are terminated\n",
        "!pkill -f ngrok #This forcefully kills all processes with ngrok in their name\n",
        "\n",
        "# Wait for a short duration to ensure processes are terminated\n",
        "import time\n",
        "time.sleep(5)\n",
        "\n",
        "# Start a new ngrok tunnel\n",
        "public_url = ngrok.connect(8501)\n",
        "print(\"✅ Streamlit Public URL:\", public_url)"
      ],
      "metadata": {
        "colab": {
          "base_uri": "https://localhost:8080/"
        },
        "id": "J2zAwuSBSSvc",
        "outputId": "3d1a24c9-ac3c-4197-a3d3-6edb69834c40"
      },
      "execution_count": 17,
      "outputs": [
        {
          "output_type": "stream",
          "name": "stdout",
          "text": [
            "✅ Streamlit Public URL: NgrokTunnel: \"https://2797-104-196-5-78.ngrok-free.app\" -> \"http://localhost:8501\"\n"
          ]
        }
      ]
    }
  ]
}